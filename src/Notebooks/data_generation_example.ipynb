{
 "cells": [
  {
   "cell_type": "code",
   "execution_count": 1,
   "metadata": {},
   "outputs": [],
   "source": [
    "import os\n",
    "import sys\n",
    "import pandas as pd\n",
    "\n",
    "sys.path.append(os.path.abspath(\"../\"))"
   ]
  },
  {
   "cell_type": "code",
   "execution_count": 3,
   "metadata": {},
   "outputs": [],
   "source": [
    "from data_generation.aircraft_data_generator import Aircraft , Fleet"
   ]
  },
  {
   "cell_type": "code",
   "execution_count": 4,
   "metadata": {},
   "outputs": [
    {
     "name": "stdout",
     "output_type": "stream",
     "text": [
      "Dataset saved as ../data/aircraft_data\\fleet_0\\aircraft_0_1.csv\n"
     ]
    }
   ],
   "source": [
    "aircraft = Aircraft(fleet_id=0,id=1)\n",
    "aircraft.generate_data(100,interval_minutes=3,inject_anomalies=False)\n",
    "aircraft.to_dataframe()\n",
    "\n",
    "aircraft.save_dataset()\n"
   ]
  },
  {
   "cell_type": "code",
   "execution_count": 5,
   "metadata": {},
   "outputs": [
    {
     "name": "stdout",
     "output_type": "stream",
     "text": [
      "Anomaly 'turbulence' added from time 2025-01-01 00:49:00 to 2025-01-01 01:01:00 for aircraft 0-1\n"
     ]
    }
   ],
   "source": [
    "aircraft_with_anomaly = aircraft.copy()\n",
    "\n",
    "aircraft_with_anomaly.inject_events()"
   ]
  },
  {
   "cell_type": "code",
   "execution_count": 6,
   "metadata": {},
   "outputs": [
    {
     "name": "stdout",
     "output_type": "stream",
     "text": [
      "Dataset saved as ../data/aircraft_data\\fleet_0\\aircraft_0_1_anomaly.csv\n"
     ]
    }
   ],
   "source": [
    "aircraft_with_anomaly.save_dataset(suffix=\"_anomaly\")"
   ]
  },
  {
   "cell_type": "code",
   "execution_count": 9,
   "metadata": {},
   "outputs": [
    {
     "name": "stdout",
     "output_type": "stream",
     "text": [
      "Anomaly 'engine_stall' added from time 2025-01-01 00:30:00 to 2025-01-01 00:50:00 for aircraft 1-1\n",
      "Dataset saved as ../data/aircraft_data\\fleet_1\\aircraft_1_1_anomalous.csv\n",
      "Aircraft 1-1 dataset generated (Anomalous) in fleet 1\n",
      "Dataset saved as ../data/aircraft_data\\fleet_1\\aircraft_1_2_normal.csv\n",
      "Aircraft 1-2 dataset generated (Normal) in fleet 1\n",
      "Dataset saved as ../data/aircraft_data\\fleet_1\\aircraft_1_3_normal.csv\n",
      "Aircraft 1-3 dataset generated (Normal) in fleet 1\n",
      "Dataset saved as ../data/aircraft_data\\fleet_1\\aircraft_1_4_normal.csv\n",
      "Aircraft 1-4 dataset generated (Normal) in fleet 1\n",
      "Dataset saved as ../data/aircraft_data\\fleet_1\\aircraft_1_5_normal.csv\n",
      "Aircraft 1-5 dataset generated (Normal) in fleet 1\n",
      "Anomaly 'engine_stall' added from time 2025-01-01 00:38:00 to 2025-01-01 00:58:00 for aircraft 1-6\n",
      "Dataset saved as ../data/aircraft_data\\fleet_1\\aircraft_1_6_anomalous.csv\n",
      "Aircraft 1-6 dataset generated (Anomalous) in fleet 1\n",
      "Anomaly 'fuel_leak' added from time 2025-01-01 00:13:00 to 2025-01-01 00:33:00 for aircraft 1-7\n",
      "Dataset saved as ../data/aircraft_data\\fleet_1\\aircraft_1_7_anomalous.csv\n",
      "Aircraft 1-7 dataset generated (Anomalous) in fleet 1\n",
      "Dataset saved as ../data/aircraft_data\\fleet_1\\aircraft_1_8_normal.csv\n",
      "Aircraft 1-8 dataset generated (Normal) in fleet 1\n",
      "Dataset saved as ../data/aircraft_data\\fleet_1\\aircraft_1_9_normal.csv\n",
      "Aircraft 1-9 dataset generated (Normal) in fleet 1\n",
      "Dataset saved as ../data/aircraft_data\\fleet_1\\aircraft_1_10_normal.csv\n",
      "Aircraft 1-10 dataset generated (Normal) in fleet 1\n",
      "Anomaly summary saved for fleet 1\n"
     ]
    }
   ],
   "source": [
    "fleet = Fleet(fleet_id=1,num_aircraft=10,num_anomalous=3,num_points=20,interval_minutes=5)\n",
    "fleet.generate_fleet_data()"
   ]
  }
 ],
 "metadata": {
  "kernelspec": {
   "display_name": "envFL",
   "language": "python",
   "name": "python3"
  },
  "language_info": {
   "codemirror_mode": {
    "name": "ipython",
    "version": 3
   },
   "file_extension": ".py",
   "mimetype": "text/x-python",
   "name": "python",
   "nbconvert_exporter": "python",
   "pygments_lexer": "ipython3",
   "version": "3.10.14"
  }
 },
 "nbformat": 4,
 "nbformat_minor": 2
}
